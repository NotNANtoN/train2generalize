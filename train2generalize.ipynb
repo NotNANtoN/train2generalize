{
 "cells": [
  {
   "cell_type": "code",
   "execution_count": 1,
   "id": "f9886e22-166b-4ad4-ac6d-a44e27eedf7f",
   "metadata": {},
   "outputs": [],
   "source": [
    "import torch"
   ]
  },
  {
   "cell_type": "code",
   "execution_count": 3,
   "id": "cc5dc7f4-7621-4ad7-9987-886b449ceb14",
   "metadata": {},
   "outputs": [
    {
     "name": "stdout",
     "output_type": "stream",
     "text": [
      "Files already downloaded and verified\n",
      "Files already downloaded and verified\n"
     ]
    }
   ],
   "source": [
    "dataset = \"CIFAR10\" # ImageNet, MNIST, FashionMNIST, CIFAR10\n",
    "\n",
    "\n",
    "# load data\n",
    "from torchvision import datasets, transforms\n",
    "from torch.utils.data import DataLoader\n",
    "from torch.utils.data.sampler import SubsetRandomSampler\n",
    "\n",
    "\n",
    "# get RandAugment from torchvision\n",
    "import torchvision\n",
    "rand_augment =  None  #torchvision.transforms.RandAugment(num_ops=4, magnitude=9)\n",
    "\n",
    "\n",
    "train_data, val_data, test_data = None, None, None\n",
    "if dataset == \"ImageNet\":\n",
    "    num_classes = 1000\n",
    "    resolution = 224\n",
    "    n_channels = 3\n",
    "    transform = transforms.Compose([transforms.Resize(resolution), transforms.ToTensor(), \n",
    "                                    transforms.Normalize((0.485, 0.456, 0.406), (0.229, 0.224, 0.225))])\n",
    "    train_transform = transforms.Compose([rand_augment, transforms.Resize(resolution), transforms.ToTensor(),\n",
    "                                         transforms.Normalize((0.485, 0.456, 0.406), (0.229, 0.224, 0.225))])\n",
    "    dev_data = datasets.ImageNet(root=\"data\", split=\"train\", download=True, transform=transform)\n",
    "    val_data = datasets.ImageNet(root=\"data\", split=\"val\", download=True, transform=transform)\n",
    "    test_data = datasets.ImageNet(root=\"data\", split=\"val\", download=True, transform=transform)\n",
    "\n",
    "elif dataset == \"MNIST\" or dataset == \"FashionMNIST\":\n",
    "    num_classes = 10\n",
    "    resolution = 28\n",
    "    n_channels = 1\n",
    "    transform = transforms.Compose([transforms.ToTensor(), transforms.Normalize((0.5,), (0.5,)),])\n",
    "    train_transform = transforms.Compose([rand_augment, transforms.ToTensor(), transforms.Normalize((0.5,), (0.5,))])\n",
    "    if dataset == \"MNIST\":\n",
    "        dev_data = datasets.MNIST(root=\"data\", train=True, download=True, transform=transform)\n",
    "        test_data = datasets.MNIST(root=\"data\", train=False, download=True, transform=transform)\n",
    "    else:\n",
    "        dev_data = datasets.FashionMNIST(root=\"data\", train=True, download=True, transform=transform)\n",
    "        test_data = datasets.FashionMNIST(root=\"data\", train=False, download=True, transform=transform)\n",
    "\n",
    "elif dataset == \"CIFAR10\":\n",
    "    num_classes = 10\n",
    "    resolution = 32\n",
    "    n_channels = 3\n",
    "    \n",
    "    mean = [0.49139968, 0.48215827 ,0.44653124]\n",
    "    std = [0.24703233, 0.24348505, 0.26158768]\n",
    "    \n",
    "    \n",
    "    if rand_augment is None:\n",
    "        # get augmentation for training to replicate MLTP paper\n",
    "        rand_augment = transforms.Compose([transforms.RandomCrop(resolution, padding=4),# padding_mode=\"reflect\"),\n",
    "                                            transforms.RandomHorizontalFlip(p=0.5),\n",
    "                                        #transforms.ColorJitter(brightness=0.2, contrast=0.2, saturation=0.2),\n",
    "                                            ])\n",
    "\n",
    "    transform = transforms.Compose([transforms.ToTensor(),\n",
    "                                    transforms.Normalize(mean, std),\n",
    "                                    ])\n",
    "    train_transform = transforms.Compose([rand_augment, \n",
    "                                          transforms.ToTensor(), \n",
    "                                          transforms.Normalize(mean, std),\n",
    "                                         ])\n",
    "                            \n",
    "    dev_data = datasets.CIFAR10(root=\"data\", train=True, download=True, transform=train_transform)\n",
    "    test_data = datasets.CIFAR10(root=\"data\", train=False, download=True, transform=transform)"
   ]
  },
  {
   "cell_type": "code",
   "execution_count": 4,
   "id": "97d6e6a0",
   "metadata": {},
   "outputs": [],
   "source": [
    "# define conv net\n",
    "class ConvNet(torch.nn.Module):\n",
    "    def __init__(self, num_classes, n_channels, resolution):\n",
    "        super(ConvNet, self).__init__()\n",
    "        self.conv1 = torch.nn.Conv2d(n_channels, 32, 3, 1, padding=1)\n",
    "        self.conv2 = torch.nn.Conv2d(32, 64, 3, 1, padding=1)\n",
    "        self.dropout1 = torch.nn.Dropout2d(0.25)\n",
    "        self.dropout2 = torch.nn.Dropout(0.5)\n",
    "        self.fc1 = torch.nn.Linear(resolution**2 // 4 * 64, 128)\n",
    "        self.fc2 = torch.nn.Linear(128, num_classes)        \n",
    "\n",
    "\n",
    "    def forward(self, x):\n",
    "        x = self.conv1(x)\n",
    "        x = torch.nn.functional.relu(x)\n",
    "        x = self.conv2(x)\n",
    "        x = torch.nn.functional.relu(x)\n",
    "        x = torch.nn.functional.max_pool2d(x, 2)\n",
    "        x = self.dropout1(x)\n",
    "        x = torch.flatten(x, 1)\n",
    "        x = self.fc1(x)\n",
    "        x = torch.nn.functional.relu(x)\n",
    "        x = self.dropout2(x)\n",
    "        x = self.fc2(x)\n",
    "        output = torch.nn.functional.log_softmax(x, dim=1)\n",
    "        return output\n",
    "    \n",
    "   \n",
    "# is CNet1 from https://arxiv.org/pdf/2002.12455.pdf\n",
    "class CNet1(torch.nn.Module):\n",
    "    def __init__(self, num_classes, n_channels, resolution):\n",
    "        super().__init__()\n",
    "        self.conv1 = torch.nn.Conv2d(n_channels, 256, 3, 1, padding=1)\n",
    "        self.fc1 = torch.nn.Linear(resolution**2 // 4 * 256, 512)\n",
    "        self.fc2 = torch.nn.Linear(512, num_classes)        \n",
    "\n",
    "    def forward(self, x):\n",
    "        x = self.conv1(x)\n",
    "        x = torch.nn.functional.relu(x)\n",
    "        x = torch.nn.functional.max_pool2d(x, 2)\n",
    "        x = torch.flatten(x, 1)\n",
    "        x = self.fc1(x)\n",
    "        x = torch.nn.functional.relu(x)\n",
    "        x = self.fc2(x)\n",
    "        output = torch.nn.functional.log_softmax(x, dim=1)\n",
    "        return output"
   ]
  },
  {
   "cell_type": "code",
   "execution_count": 5,
   "id": "77857d40",
   "metadata": {},
   "outputs": [],
   "source": [
    "import torch\n",
    "\n",
    "if val_data is None:\n",
    "    # split dev data into train and validation\n",
    "    train_size = int(0.8 * len(dev_data))\n",
    "    val_size = len(dev_data) - train_size\n",
    "    train_data, val_data = torch.utils.data.random_split(dev_data, [train_size, val_size])\n",
    "\n",
    "# split train data into train and generalization\n",
    "gen_size = int(0.8 * len(train_data))\n",
    "train_size = len(train_data) - gen_size\n",
    "train_data, gen_data = torch.utils.data.random_split(train_data, [train_size, gen_size])\n",
    "# set train transform\n",
    "train_data.dataset.transform = train_transform"
   ]
  },
  {
   "cell_type": "code",
   "execution_count": 6,
   "id": "1e93b644",
   "metadata": {},
   "outputs": [
    {
     "data": {
      "text/plain": [
       "32768"
      ]
     },
     "execution_count": 6,
     "metadata": {},
     "output_type": "execute_result"
    }
   ],
   "source": [
    "resolution * resolution * 64 // 2"
   ]
  },
  {
   "cell_type": "code",
   "execution_count": 7,
   "id": "96b712c2",
   "metadata": {},
   "outputs": [
    {
     "name": "stdout",
     "output_type": "stream",
     "text": [
      "tensor([[-2.4260, -2.2189, -2.3545, -2.3785, -2.3691, -2.3122, -2.1839, -2.4374,\n",
      "         -2.2254, -2.1660]], grad_fn=<LogSoftmaxBackward0>)\n",
      "tensor([[9]])\n"
     ]
    }
   ],
   "source": [
    "# test conv net\n",
    "model = ConvNet(num_classes, n_channels, resolution)\n",
    "input_data = torch.randn(1, n_channels, resolution, resolution)\n",
    "output = model(input_data)\n",
    "print(output)\n",
    "pred = output.argmax(dim=1, keepdim=True)\n",
    "print(pred)"
   ]
  },
  {
   "cell_type": "code",
   "execution_count": 8,
   "id": "ff4298d4",
   "metadata": {},
   "outputs": [
    {
     "name": "stderr",
     "output_type": "stream",
     "text": [
      "Clipping input data to the valid range for imshow with RGB data ([0..1] for floats or [0..255] for integers).\n"
     ]
    },
    {
     "data": {
      "image/png": "[encoded data removed]",
      "text/plain": [
       "<Figure size 1000x1000 with 1 Axes>"
      ]
     },
     "metadata": {},
     "output_type": "display_data"
    }
   ],
   "source": [
    "# test training augmentation by plotting some images\n",
    "import matplotlib.pyplot as plt\n",
    "import numpy as np\n",
    "\n",
    "def imshow(img):\n",
    "    img = img / 2 + 0.5     # unnormalize\n",
    "    npimg = img.numpy()\n",
    "    plt.imshow(np.transpose(npimg, (1, 2, 0)))\n",
    "    plt.show()\n",
    "\n",
    "# get some random training images\n",
    "dl = torch.utils.data.DataLoader(dev_data, batch_size=16, shuffle=True, num_workers=0)\n",
    "dataiter = iter(dl)\n",
    "images, labels = dataiter.next()\n",
    "\n",
    "# show images\n",
    "plt.figure(figsize=(10, 10))\n",
    "imshow(torchvision.utils.make_grid(images, nrow=4))"
   ]
  },
  {
   "cell_type": "code",
   "execution_count": 9,
   "id": "b79bfaad",
   "metadata": {},
   "outputs": [
    {
     "data": {
      "text/plain": [
       "torch.Size([16, 3, 32, 32])"
      ]
     },
     "execution_count": 9,
     "metadata": {},
     "output_type": "execute_result"
    }
   ],
   "source": [
    "images.shape"
   ]
  },
  {
   "cell_type": "code",
   "execution_count": 10,
   "id": "98cc2386-cc85-4171-8f7a-95d28340bfd3",
   "metadata": {},
   "outputs": [],
   "source": [
    "# train loss function\n",
    "def calc_train_loss(model, data, target):\n",
    "    output = model(data)\n",
    "    loss = torch.nn.functional.nll_loss(output, target)\n",
    "    return loss\n",
    "\n",
    "\n",
    "import copy\n",
    "\n",
    "\n",
    "# define train2generalize loss function\n",
    "def train2generalize(model, data, target, gen_loader, optimizer, reset_net=False, **kwargs):\n",
    "    # train for one step, then test on one generalization data batch and backprop\n",
    "\n",
    "    # save current model parameters\n",
    "    if reset_net:\n",
    "        model_params = copy.deepcopy(model.state_dict())        \n",
    "\n",
    "    # update weights\n",
    "    loss = calc_train_loss(model, data, target)\n",
    "    optimizer.zero_grad()\n",
    "    loss.backward(create_graph=True)\n",
    "    optimizer.step()\n",
    "\n",
    "    # test on one generalization data batch\n",
    "    gen_data, gen_target = next(iter(gen_loader))\n",
    "    gen_data, gen_target = gen_data.to(device), gen_target.to(device)\n",
    "    gen_loss = calc_train_loss(model, gen_data, gen_target)\n",
    "\n",
    "    optimizer.zero_grad()\n",
    "\n",
    "    if reset_net:\n",
    "        # reset model parameters to only make use of second order information\n",
    "        # restore model parameters by subtracting the difference between the current and saved parameters\n",
    "        for param, saved_param in zip(model.parameters(), model_params.values()):\n",
    "            param.data -= param.data - saved_param.detach()\n",
    "\n",
    "    return gen_loss\n",
    "\n",
    "\n",
    "def train2generalize2(model, data, target, gen_loader, optimizer, fast_net, inner_lr=0.001, **kwargs):\n",
    "    #print(data.device, target.device, model.fc1.weight.device)\n",
    "    loss_fast = calc_train_loss(model, data, target)\n",
    "    grad = torch.autograd.grad(loss_fast, model.parameters(), create_graph=True)\n",
    "    fast_weights = list(map(lambda p: p[1] - inner_lr * p[0], zip(grad, model.parameters())))\n",
    "\n",
    "    # load fast weights into fast_net\n",
    "    fast_net.load_state_dict(dict(zip(fast_net.state_dict().keys(), fast_weights)))\n",
    "    # print grad of fast_net to check if it is the same as grad\n",
    "    print(\"grad\", grad[0][0,0,0,0])\n",
    "    print(\"fast_net\", fast_net.conv1.weight.grad[0,0,0,0])\n",
    "    gen_data, gen_target = next(iter(gen_loader))\n",
    "    gen_data, gen_target = gen_data.to(device), gen_target.to(device)\n",
    "\n",
    "    loss_gen = calc_train_loss(fast_net, gen_data, gen_target)\n",
    "    return loss_gen\n",
    "\n",
    "\n",
    "def train2generalize_with_l2l(model, data, target, gen_loader, optimizer, fast_net, inner_lr=0.001, **kwargs):\n",
    "    import learn2learn as l2l\n",
    "    maml = l2l.algorithms.MAML(model, lr=inner_lr)\n",
    "    for iteration in range(1):\n",
    "        optimizer.zero_grad()\n",
    "        task_model = maml.clone()  # torch.clone() for nn.Modules\n",
    "        adaptation_loss = calc_train_loss(task_model, data, target)\n",
    "        task_model.adapt(adaptation_loss)  # computes gradient, update task_model in-place\n",
    "\n",
    "        gen_data, gen_target = next(iter(gen_loader))\n",
    "        gen_data, gen_target = gen_data.to(device), gen_target.to(device)\n",
    "        evaluation_loss = calc_train_loss(task_model, gen_data, gen_target)\n",
    "    return evaluation_loss\n",
    "   \n",
    "\n",
    "def train2generalize_with_higher(model, data, target, gen_loader, optimizer, fast_net, inner_lr=0.001, **kwargs):\n",
    "    import higher\n",
    "    # When you want to branch from the current state of your model and unroll\n",
    "    # optimization, follow this example. This context manager gets a snapshot of the\n",
    "    # current version of the model and optimizer at the point where you want to\n",
    "    # start unrolling and create a functional version `fmodel` which executes the\n",
    "    # forward pass of `model` with implicit fast weights which can be read by doing\n",
    "    # `fmodel.parameters()`, and a differentiable optimizer `diffopt` which ensures\n",
    "    # that at each step, gradient of `fmodel.parameters()` with regard to initial\n",
    "    # fast weights `fmodel.parameters(time=0)` (or any other part of the unrolled\n",
    "    # model history) is defined.\n",
    "    n_inner_iter = 1\n",
    "    inner_opt = torch.optim.SGD(model.parameters(), lr=inner_lr)\n",
    "\n",
    "    with higher.innerloop_ctx(model, inner_opt, copy_initial_weights=False) as (fmodel, diffopt):\n",
    "        for _ in range(n_inner_iter):\n",
    "            logits = fmodel(data)  # modified `params` can also be passed as a kwarg\n",
    "            loss = torch.nn.functional.nll_loss(logits, target)\n",
    "            # no need to call loss.backwards()\n",
    "            diffopt.step(loss)  # note that `step` must take `loss` as an argument!\n",
    "        # The final set of adapted parameters will induce some\n",
    "        # final loss and accuracy on the query dataset.\n",
    "        # These will be used to update the model's meta-parameters.\n",
    "\n",
    "\n",
    "        # At this point, or at any point in the iteration, you can take the\n",
    "        # gradient of `fmodel.parameters()` (or equivalently\n",
    "        # `fmodel.fast_params`) w.r.t. `fmodel.parameters(time=0)` (equivalently\n",
    "        # `fmodel.init_fast_params`). i.e. `fast_params` will always have\n",
    "        # `grad_fn` as an attribute, and be part of the gradient tape.\n",
    "\n",
    "        # At the end of your inner loop you can obtain these e.g. ...\n",
    "        #grad_of_grads = torch.autograd.grad(\n",
    "        #    meta_loss_fn(fmodel.parameters()), fmodel.parameters(time=0))\n",
    "        gen_data, gen_target = next(iter(gen_loader))\n",
    "        gen_data, gen_target = gen_data.to(device), gen_target.to(device)\n",
    "        eval_loss = calc_train_loss(fmodel, gen_data, gen_target)\n",
    "    return eval_loss\n",
    "\n",
    "import time\n",
    "from torch.cuda.amp import GradScaler, autocast\n",
    "\n",
    "\n",
    "# define train function\n",
    "def train(model, device, train_loader, optimizer, scaler, epoch, use_train2generalize=False, gen_loader=None, train_to_generalize_kwargs=None, \n",
    "         save_graph=False):\n",
    "    model.train()\n",
    "\n",
    "    if use_train2generalize:\n",
    "        fast_net = copy.deepcopy(model).to(device)\n",
    "\n",
    "    start_time = time.time()\n",
    "    \n",
    "    train_losses = []\n",
    "\n",
    "    for batch_idx, (data, target) in enumerate(train_loader):\n",
    "        data, target = data.to(device), target.to(device)\n",
    "        optimizer.zero_grad()\n",
    "\n",
    "        \n",
    "        # Runs the forward pass with autocasting.\n",
    "        with autocast():\n",
    "            if use_train2generalize:\n",
    "                if train_to_generalize_kwargs[\"use_l2l\"] or train_to_generalize_kwargs[\"MLPT\"]:\n",
    "                    loss = train2generalize_with_l2l(model, data, target, gen_loader, optimizer, fast_net, **train_to_generalize_kwargs)\n",
    "                elif train_to_generalize_kwargs[\"use_higher\"]:\n",
    "                    loss = train2generalize_with_higher(model, data, target, gen_loader, optimizer, fast_net, **train_to_generalize_kwargs)\n",
    "                else:\n",
    "                    loss = train2generalize(model, data, target, gen_loader, optimizer, **train_to_generalize_kwargs)\n",
    "                    \n",
    "                # for MLPT, add normal loss as well with scaling factor\n",
    "                if train_to_generalize_kwargs[\"MLPT\"]:\n",
    "                    loss = loss * train_to_generalize_kwargs[\"MLPT\"] + calc_train_loss(model, data, target) * (1 - train_to_generalize_kwargs[\"MLPT\"])\n",
    "            else:\n",
    "                loss = calc_train_loss(model, data, target)\n",
    "\n",
    "        if batch_idx == 0 and save_graph and 1 == 0:\n",
    "            # visualize comp graph\n",
    "            from torchviz import make_dot\n",
    "            make_dot(loss).render(\"comp_graph\", format=\"png\")\n",
    "            # print GPU memory usage with torch in GB\n",
    "            print(\"GPU memory usage: \", torch.cuda.memory_allocated(device)/1e9, \"GB\")\n",
    "            #print(torch.cuda.memory_summary(device=None, abbreviated=False))\n",
    "\n",
    "\n",
    "        scaler.scale(loss).backward()\n",
    "        scaler.step(optimizer)\n",
    "        scaler.update()\n",
    "        \n",
    "            \n",
    "        train_losses.append(loss.detach())\n",
    "        \n",
    "        \n",
    "    mean_train_loss = torch.mean(torch.tensor(train_losses)).item()\n",
    "    print(f'Train Epoch: {epoch}  ({100. * batch_idx / len(train_loader):.0f}%) \\t Loss: {mean_train_loss:.2f}', \n",
    "          f\"Time: {time.time() - start_time:.2f}s\")\n",
    "    \n",
    "    return mean_train_loss\n",
    "\n",
    "# define test function\n",
    "@torch.inference_mode()\n",
    "def test(model, device, test_loader):\n",
    "    model.eval()\n",
    "    test_loss = 0\n",
    "    correct = 0\n",
    "    \n",
    "    for data, target in test_loader:\n",
    "        data, target = data.to(device), target.to(device)\n",
    "        with autocast():\n",
    "            output = model(data)\n",
    "        test_loss += torch.nn.functional.nll_loss(output, target, reduction='sum').item()  # sum up batch loss\n",
    "        pred = output.argmax(dim=1, keepdim=True)  # get the index of the max log-probability\n",
    "        correct += pred.eq(target.view_as(pred)).sum().item()\n",
    "\n",
    "    test_loss /= len(test_loader.dataset)\n",
    "\n",
    "    print(f'Average loss: {test_loss:.4f}, Accuracy: {correct}/{len(test_loader.dataset)} ({100. * correct / len(test_loader.dataset):.2f}%)')\n",
    "    return test_loss"
   ]
  },
  {
   "cell_type": "code",
   "execution_count": 11,
   "id": "8f989235-4921-488e-843b-cd4c56993c46",
   "metadata": {},
   "outputs": [
    {
     "data": {
      "text/plain": [
       "Parameter containing:\n",
       "tensor([0.0010], requires_grad=True)"
      ]
     },
     "execution_count": 11,
     "metadata": {},
     "output_type": "execute_result"
    }
   ],
   "source": [
    "torch.nn.Parameter(torch.tensor([0.001], requires_grad=True))"
   ]
  },
  {
   "cell_type": "code",
   "execution_count": 35,
   "id": "95b4cb29",
   "metadata": {},
   "outputs": [
    {
     "name": "stdout",
     "output_type": "stream",
     "text": [
      "Number of parameters:  33567242\n",
      "Average loss: 2.3136, Accuracy: 892/10000 (8.92%)\n",
      "Train Epoch: 1  (100%) \t Loss: 2.92 Time: 9.03s\n",
      "Average loss: 1.5958, Accuracy: 4054/10000 (40.54%)\n",
      "Train Epoch: 2  (100%) \t Loss: 1.58 Time: 10.38s\n",
      "Average loss: 1.4050, Accuracy: 4896/10000 (48.96%)\n",
      "Train Epoch: 3  (100%) \t Loss: 1.46 Time: 10.34s\n",
      "Average loss: 1.3172, Accuracy: 5253/10000 (52.53%)\n",
      "Train Epoch: 4  (100%) \t Loss: 1.41 Time: 10.02s\n",
      "Average loss: 1.2822, Accuracy: 5306/10000 (53.06%)\n",
      "Train Epoch: 5  (100%) \t Loss: 1.36 Time: 10.59s\n",
      "Average loss: 1.2038, Accuracy: 5685/10000 (56.85%)\n",
      "Train Epoch: 6  (100%) \t Loss: 1.32 Time: 9.98s\n",
      "Average loss: 1.2261, Accuracy: 5569/10000 (55.69%)\n",
      "Train Epoch: 7  (100%) \t Loss: 1.28 Time: 10.31s\n",
      "Average loss: 1.1506, Accuracy: 5926/10000 (59.26%)\n",
      "Train Epoch: 8  (100%) \t Loss: 1.26 Time: 8.68s\n",
      "Average loss: 1.1486, Accuracy: 5887/10000 (58.87%)\n",
      "Train Epoch: 9  (100%) \t Loss: 1.22 Time: 9.37s\n",
      "Average loss: 1.1331, Accuracy: 5967/10000 (59.67%)\n",
      "Train Epoch: 10  (100%) \t Loss: 1.22 Time: 10.49s\n",
      "Average loss: 1.1397, Accuracy: 5957/10000 (59.57%)\n",
      "Train Epoch: 11  (100%) \t Loss: 1.19 Time: 10.04s\n",
      "Average loss: 1.1032, Accuracy: 6085/10000 (60.85%)\n",
      "Train Epoch: 12  (100%) \t Loss: 1.18 Time: 8.91s\n",
      "Average loss: 1.0882, Accuracy: 6110/10000 (61.10%)\n",
      "Train Epoch: 13  (100%) \t Loss: 1.18 Time: 10.11s\n",
      "Average loss: 1.0760, Accuracy: 6165/10000 (61.65%)\n",
      "Train Epoch: 14  (100%) \t Loss: 1.17 Time: 10.26s\n",
      "Average loss: 1.0607, Accuracy: 6292/10000 (62.92%)\n",
      "Train Epoch: 15  (100%) \t Loss: 1.13 Time: 10.54s\n",
      "Average loss: 1.0378, Accuracy: 6385/10000 (63.85%)\n",
      "Train Epoch: 16  (100%) \t Loss: 1.14 Time: 9.26s\n",
      "Average loss: 1.0548, Accuracy: 6258/10000 (62.58%)\n",
      "Train Epoch: 17  (100%) \t Loss: 1.12 Time: 10.38s\n",
      "Average loss: 1.0414, Accuracy: 6352/10000 (63.52%)\n",
      "Train Epoch: 18  (100%) \t Loss: 1.11 Time: 10.18s\n",
      "Average loss: 1.0235, Accuracy: 6420/10000 (64.20%)\n",
      "Train Epoch: 19  (100%) \t Loss: 1.10 Time: 9.98s\n",
      "Average loss: 1.0513, Accuracy: 6335/10000 (63.35%)\n",
      "Train Epoch: 20  (100%) \t Loss: 1.11 Time: 9.30s\n",
      "Average loss: 1.0498, Accuracy: 6393/10000 (63.93%)\n",
      "Train Epoch: 21  (100%) \t Loss: 1.08 Time: 10.31s\n",
      "Average loss: 1.0015, Accuracy: 6483/10000 (64.83%)\n",
      "Train Epoch: 22  (100%) \t Loss: 1.08 Time: 10.30s\n",
      "Average loss: 1.0029, Accuracy: 6477/10000 (64.77%)\n",
      "Train Epoch: 23  (100%) \t Loss: 1.08 Time: 10.33s\n",
      "Average loss: 1.0223, Accuracy: 6441/10000 (64.41%)\n",
      "Train Epoch: 24  (100%) \t Loss: 1.07 Time: 10.29s\n",
      "Average loss: 1.0031, Accuracy: 6494/10000 (64.94%)\n",
      "Train Epoch: 25  (100%) \t Loss: 1.07 Time: 10.55s\n",
      "Average loss: 0.9868, Accuracy: 6544/10000 (65.44%)\n",
      "Train Epoch: 26  (100%) \t Loss: 1.04 Time: 9.72s\n",
      "Average loss: 0.9835, Accuracy: 6555/10000 (65.55%)\n",
      "Train Epoch: 27  (100%) \t Loss: 1.05 Time: 10.72s\n",
      "Average loss: 0.9757, Accuracy: 6625/10000 (66.25%)\n",
      "Train Epoch: 28  (100%) \t Loss: 1.06 Time: 10.60s\n",
      "Average loss: 1.0054, Accuracy: 6509/10000 (65.09%)\n",
      "Train Epoch: 29  (100%) \t Loss: 1.05 Time: 10.53s\n",
      "Average loss: 0.9821, Accuracy: 6561/10000 (65.61%)\n",
      "Train Epoch: 30  (100%) \t Loss: 1.04 Time: 8.90s\n",
      "Average loss: 0.9737, Accuracy: 6568/10000 (65.68%)\n",
      "Train Epoch: 31  (100%) \t Loss: 1.03 Time: 8.91s\n",
      "Average loss: 0.9794, Accuracy: 6600/10000 (66.00%)\n",
      "Train Epoch: 32  (100%) \t Loss: 1.02 Time: 9.02s\n",
      "Average loss: 0.9694, Accuracy: 6607/10000 (66.07%)\n",
      "Train Epoch: 33  (100%) \t Loss: 1.00 Time: 10.48s\n",
      "Average loss: 0.9648, Accuracy: 6624/10000 (66.24%)\n",
      "Train Epoch: 34  (100%) \t Loss: 1.03 Time: 10.48s\n",
      "Average loss: 0.9495, Accuracy: 6731/10000 (67.31%)\n",
      "Train Epoch: 35  (100%) \t Loss: 1.03 Time: 10.63s\n",
      "Average loss: 0.9885, Accuracy: 6591/10000 (65.91%)\n",
      "Train Epoch: 36  (100%) \t Loss: 1.01 Time: 10.85s\n",
      "Average loss: 0.9487, Accuracy: 6704/10000 (67.04%)\n",
      "Train Epoch: 37  (100%) \t Loss: 1.00 Time: 10.67s\n",
      "Average loss: 0.9485, Accuracy: 6737/10000 (67.37%)\n",
      "Train Epoch: 38  (100%) \t Loss: 0.99 Time: 10.50s\n",
      "Average loss: 0.9665, Accuracy: 6651/10000 (66.51%)\n",
      "Train Epoch: 39  (100%) \t Loss: 1.00 Time: 10.54s\n",
      "Average loss: 0.9532, Accuracy: 6699/10000 (66.99%)\n",
      "Train Epoch: 40  (100%) \t Loss: 0.99 Time: 10.83s\n",
      "Average loss: 0.9335, Accuracy: 6801/10000 (68.01%)\n",
      "Train Epoch: 41  (100%) \t Loss: 0.99 Time: 10.62s\n",
      "Average loss: 0.9287, Accuracy: 6835/10000 (68.35%)\n",
      "Train Epoch: 42  (100%) \t Loss: 1.00 Time: 11.20s\n",
      "Average loss: 0.9428, Accuracy: 6784/10000 (67.84%)\n",
      "Train Epoch: 43  (100%) \t Loss: 1.00 Time: 11.08s\n",
      "Average loss: 0.9505, Accuracy: 6735/10000 (67.35%)\n",
      "Train Epoch: 44  (100%) \t Loss: 0.97 Time: 10.80s\n",
      "Average loss: 0.9374, Accuracy: 6725/10000 (67.25%)\n",
      "Train Epoch: 45  (100%) \t Loss: 0.99 Time: 9.68s\n",
      "Average loss: 0.9469, Accuracy: 6699/10000 (66.99%)\n",
      "Train Epoch: 46  (100%) \t Loss: 0.96 Time: 9.58s\n",
      "Average loss: 0.9187, Accuracy: 6786/10000 (67.86%)\n",
      "Train Epoch: 47  (100%) \t Loss: 0.96 Time: 10.92s\n",
      "Average loss: 0.9153, Accuracy: 6850/10000 (68.50%)\n",
      "Train Epoch: 48  (100%) \t Loss: 0.96 Time: 10.71s\n",
      "Average loss: 0.9448, Accuracy: 6741/10000 (67.41%)\n",
      "Train Epoch: 49  (100%) \t Loss: 0.97 Time: 9.76s\n",
      "Average loss: 0.9319, Accuracy: 6791/10000 (67.91%)\n",
      "Train Epoch: 50  (100%) \t Loss: 0.97 Time: 10.77s\n",
      "Average loss: 0.9149, Accuracy: 6802/10000 (68.02%)\n"
     ]
    },
    {
     "data": {
      "image/png": "[encoded data removed]",
      "text/plain": [
       "<Figure size 640x480 with 1 Axes>"
      ]
     },
     "metadata": {},
     "output_type": "display_data"
    },
    {
     "data": {
      "image/png": "[encoded data removed]",
      "text/plain": [
       "<Figure size 640x480 with 1 Axes>"
      ]
     },
     "metadata": {},
     "output_type": "display_data"
    }
   ],
   "source": [
    "# define hyperparameters\n",
    "use_train2generalize = 1\n",
    "epochs = 50\n",
    "\n",
    "inner_lr = torch.tensor([0.001], requires_grad=False, device=\"cuda\") #0.001,\n",
    "train_to_generalize_kwargs = {'reset_net': 1,\n",
    "                              'inner_lr': inner_lr,\n",
    "                              'use_l2l': 1,\n",
    "                              'use_higher': 0,\n",
    "                              'MLPT': 0.5\n",
    "                              ,  # for real MLPT we need to include the first loss term too\n",
    "                              }\n",
    "batch_size = 64\n",
    "lr = 0.001\n",
    "weight_decay = 1e-4\n",
    "\n",
    "# for MLPT we use half the batch size (divide a batch into two tasks)\n",
    "if train_to_generalize_kwargs[\"MLPT\"]:\n",
    "    batch_size = batch_size // 2\n",
    "# define train and test data loaders\n",
    "from torch.utils.data import DataLoader, ConcatDataset\n",
    "train_loader = DataLoader(train_data, batch_size=batch_size, shuffle=True, num_workers=4)\n",
    "val_loader = DataLoader(val_data, batch_size=batch_size * 4, shuffle=False)\n",
    "test_loader = DataLoader(test_data, batch_size=batch_size * 4, shuffle=False, num_workers=4)\n",
    "gen_loader = DataLoader(gen_data, batch_size=batch_size, shuffle=True)\n",
    "# create loader that combine train and generalization data\n",
    "train_gen_loader = DataLoader(ConcatDataset([train_data, gen_data]), batch_size=batch_size, shuffle=True, num_workers=4)\n",
    "\n",
    "# define device\n",
    "device = torch.device(\"cuda\" if torch.cuda.is_available() else \"cpu\")\n",
    "# define model\n",
    "#model = ConvNet(num_classes, n_channels, resolution).to(device)\n",
    "model = CNet1(num_classes, n_channels, resolution).to(device)\n",
    "# define optimizer\n",
    "optimizer = torch.optim.AdamW(list(model.parameters()) + [inner_lr], lr=lr, weight_decay=weight_decay)\n",
    "# Creates a GradScaler once at the beginning of training.\n",
    "scaler = GradScaler()\n",
    "\n",
    "\n",
    "# train model\n",
    "if use_train2generalize and not train_to_generalize_kwargs[\"MLPT\"]:\n",
    "    used_train_loader = train_loader\n",
    "else:\n",
    "    used_train_loader = train_gen_loader\n",
    "if train_to_generalize_kwargs[\"MLPT\"]:\n",
    "    used_gen_loader = train_gen_loader\n",
    "else:\n",
    "    used_gen_loader = gen_loader\n",
    "\n",
    "import numpy as np\n",
    "\n",
    "\n",
    "# print model weight num\n",
    "count = 0\n",
    "for p in model.parameters():\n",
    "    count += p.numel()\n",
    "print(\"Number of parameters: \", count)\n",
    "    \n",
    "initial_test_loss = test(model, device, test_loader)\n",
    "\n",
    "train_losses = [np.nan]\n",
    "test_losses = [initial_test_loss]\n",
    "inner_lrs = [inner_lr.item()]\n",
    "for epoch in range(1, epochs + 1):\n",
    "    save_graph = epoch == 1\n",
    "    train_loss = train(model, device, train_loader, optimizer, scaler, epoch, use_train2generalize=use_train2generalize, \n",
    "                       gen_loader=gen_loader, train_to_generalize_kwargs=train_to_generalize_kwargs, save_graph=save_graph)\n",
    "    test_loss = test(model, device, test_loader)\n",
    "    # log\n",
    "    train_losses.append(train_loss)\n",
    "    test_losses.append(test_loss)\n",
    "    inner_lrs.append(inner_lr.item())\n",
    "    \n",
    "\n",
    "    \n",
    "import matplotlib.pyplot as plt\n",
    "plt.plot(train_losses, label=\"Train\")\n",
    "plt.plot(test_losses, label=\"Test\")\n",
    "plt.legend()\n",
    "plt.xlabel(\"Epochs\")\n",
    "plt.ylabel(\"Loss\")\n",
    "plt.show()\n",
    "\n",
    "if use_train2generalize:\n",
    "    plt.plot(inner_lrs, label=\"test\")\n",
    "    plt.xlabel(\"Epochs\")\n",
    "    plt.ylabel(\"Inner LR\")\n",
    "    plt.show()"
   ]
  },
  {
   "cell_type": "code",
   "execution_count": null,
   "id": "962cea5e-3092-49b0-974d-da869362d8e8",
   "metadata": {},
   "outputs": [],
   "source": []
  },
  {
   "cell_type": "code",
   "execution_count": 34,
   "id": "4edd1578-e86a-4871-a180-3d372bb54579",
   "metadata": {},
   "outputs": [
    {
     "name": "stdout",
     "output_type": "stream",
     "text": [
      "Average loss: 1.0096, Accuracy: 6515/10000 (65.15%)\n"
     ]
    },
    {
     "data": {
      "text/plain": [
       "1.0096315208435058"
      ]
     },
     "execution_count": 34,
     "metadata": {},
     "output_type": "execute_result"
    }
   ],
   "source": [
    "# meta learning, inner lr fixed at 0.001\n",
    "test(model, device, test_loader)"
   ]
  },
  {
   "cell_type": "code",
   "execution_count": 32,
   "id": "de148868-d1b9-408c-a491-bd459d6297e7",
   "metadata": {},
   "outputs": [
    {
     "name": "stdout",
     "output_type": "stream",
     "text": [
      "Average loss: 1.1050, Accuracy: 6128/10000 (61.28%)\n"
     ]
    },
    {
     "data": {
      "text/plain": [
       "1.1049586242675782"
      ]
     },
     "execution_count": 32,
     "metadata": {},
     "output_type": "execute_result"
    }
   ],
   "source": [
    "# meta learning, learnable inner lr\n",
    "test(model, device, test_loader)"
   ]
  },
  {
   "cell_type": "code",
   "execution_count": 36,
   "id": "913622b1-3aa4-401c-8b70-462733efc3a8",
   "metadata": {},
   "outputs": [
    {
     "name": "stdout",
     "output_type": "stream",
     "text": [
      "Average loss: 0.9149, Accuracy: 6802/10000 (68.02%)\n"
     ]
    },
    {
     "data": {
      "text/plain": [
       "0.9149142233848572"
      ]
     },
     "execution_count": 36,
     "metadata": {},
     "output_type": "execute_result"
    }
   ],
   "source": [
    "# MLTP, inner lr fixed at 0.001\n",
    "test(model, device, test_loader)"
   ]
  },
  {
   "cell_type": "code",
   "execution_count": 30,
   "id": "af0dde01-5bf9-4585-83fe-7fc3aece7006",
   "metadata": {},
   "outputs": [
    {
     "name": "stdout",
     "output_type": "stream",
     "text": [
      "Average loss: 0.9646, Accuracy: 6592/10000 (65.92%)\n"
     ]
    },
    {
     "data": {
      "text/plain": [
       "0.964550256729126"
      ]
     },
     "execution_count": 30,
     "metadata": {},
     "output_type": "execute_result"
    }
   ],
   "source": [
    "# MLTP, learnable inner lr\n",
    "test(model, device, test_loader)"
   ]
  },
  {
   "cell_type": "code",
   "execution_count": 28,
   "id": "8791a457-963f-4f21-837c-7039d984069e",
   "metadata": {},
   "outputs": [
    {
     "name": "stdout",
     "output_type": "stream",
     "text": [
      "Average loss: 1.0856, Accuracy: 6280/10000 (62.80%)\n"
     ]
    },
    {
     "data": {
      "text/plain": [
       "1.0856279397964477"
      ]
     },
     "execution_count": 28,
     "metadata": {},
     "output_type": "execute_result"
    }
   ],
   "source": [
    "# normal training\n",
    "test(model, device, test_loader)"
   ]
  },
  {
   "cell_type": "code",
   "execution_count": null,
   "id": "8f903f7c-50f0-4176-8017-aa78c96774cb",
   "metadata": {},
   "outputs": [],
   "source": []
  }
 ],
 "metadata": {
  "kernelspec": {
   "display_name": "Python 3 (ipykernel)",
   "language": "python",
   "name": "python3"
  },
  "language_info": {
   "codemirror_mode": {
    "name": "ipython",
    "version": 3
   },
   "file_extension": ".py",
   "mimetype": "text/x-python",
   "name": "python",
   "nbconvert_exporter": "python",
   "pygments_lexer": "ipython3",
   "version": "3.8.10"
  },
  "vscode": {
   "interpreter": {
    "hash": "767d51c1340bd893661ea55ea3124f6de3c7a262a8b4abca0554b478b1e2ff90"
   }
  }
 },
 "nbformat": 4,
 "nbformat_minor": 5
}
